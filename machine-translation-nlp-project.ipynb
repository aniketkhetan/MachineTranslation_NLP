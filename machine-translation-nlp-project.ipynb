{
 "cells": [
  {
   "cell_type": "code",
   "execution_count": 1,
   "id": "optimum-compilation",
   "metadata": {
    "_cell_guid": "38f9716c-99b3-4234-bdf8-68fe9333f2be",
    "_uuid": "aeea72ba-7db1-4d36-9fde-981d0f876e00",
    "collapsed": false,
    "execution": {
     "iopub.execute_input": "2024-04-01T08:49:21.651036Z",
     "iopub.status.busy": "2024-04-01T08:49:21.650385Z",
     "iopub.status.idle": "2024-04-01T08:49:26.509835Z",
     "shell.execute_reply": "2024-04-01T08:49:26.509128Z",
     "shell.execute_reply.started": "2024-03-31T08:54:45.622203Z"
    },
    "jupyter": {
     "outputs_hidden": false
    },
    "papermill": {
     "duration": 4.903839,
     "end_time": "2024-04-01T08:49:26.509997",
     "exception": false,
     "start_time": "2024-04-01T08:49:21.606158",
     "status": "completed"
    },
    "tags": []
   },
   "outputs": [],
   "source": [
    "import string\n",
    "import re\n",
    "from numpy import array, argmax, random, take\n",
    "import pandas as pd\n",
    "from keras.models import Sequential\n",
    "from keras.layers import Dense, LSTM, Embedding, RepeatVector\n",
    "from keras.preprocessing.text import Tokenizer\n",
    "from keras.callbacks import ModelCheckpoint\n",
    "from keras.preprocessing.sequence import pad_sequences\n",
    "from keras.models import load_model\n",
    "from keras import optimizers\n",
    "import matplotlib.pyplot as plt\n",
    "import tensorflow as tf\n",
    "%matplotlib inline\n",
    "pd.set_option('display.max_colwidth', 200)"
   ]
  },
  {
   "cell_type": "code",
   "execution_count": 2,
   "id": "minute-clinic",
   "metadata": {
    "_cell_guid": "6a6b4a34-dc95-4819-be8e-82f085aa3856",
    "_uuid": "16f66992-4956-4fa2-bf5f-e1675862bd6f",
    "collapsed": false,
    "execution": {
     "iopub.execute_input": "2024-04-01T08:49:26.569567Z",
     "iopub.status.busy": "2024-04-01T08:49:26.568927Z",
     "iopub.status.idle": "2024-04-01T08:49:26.571795Z",
     "shell.execute_reply": "2024-04-01T08:49:26.571278Z",
     "shell.execute_reply.started": "2024-03-31T08:54:45.637745Z"
    },
    "jupyter": {
     "outputs_hidden": false
    },
    "papermill": {
     "duration": 0.034167,
     "end_time": "2024-04-01T08:49:26.571914",
     "exception": false,
     "start_time": "2024-04-01T08:49:26.537747",
     "status": "completed"
    },
    "tags": []
   },
   "outputs": [],
   "source": [
    "# function to read raw text file\n",
    "def read_text(filename):\n",
    "        # open the file\n",
    "        file = open(filename, mode='rt', encoding='utf-8')\n",
    "        \n",
    "        # read all text\n",
    "        text = file.read()\n",
    "        file.close()\n",
    "        return text"
   ]
  },
  {
   "cell_type": "code",
   "execution_count": 3,
   "id": "simplified-argument",
   "metadata": {
    "_cell_guid": "1eb4f74c-99e3-49b8-ae30-805ade9f7d7a",
    "_uuid": "3602b045-55a5-4a79-846a-b5aac5e781b1",
    "collapsed": false,
    "execution": {
     "iopub.execute_input": "2024-04-01T08:49:26.630265Z",
     "iopub.status.busy": "2024-04-01T08:49:26.629700Z",
     "iopub.status.idle": "2024-04-01T08:49:26.632580Z",
     "shell.execute_reply": "2024-04-01T08:49:26.632073Z",
     "shell.execute_reply.started": "2024-03-31T08:54:45.645179Z"
    },
    "jupyter": {
     "outputs_hidden": false
    },
    "papermill": {
     "duration": 0.033748,
     "end_time": "2024-04-01T08:49:26.632700",
     "exception": false,
     "start_time": "2024-04-01T08:49:26.598952",
     "status": "completed"
    },
    "tags": []
   },
   "outputs": [],
   "source": [
    "# split a text into sentences\n",
    "def to_lines(text):\n",
    "    sents = text.strip().split('\\n')\n",
    "    sents = [i.split('\\t') for i in sents]\n",
    "    return sents"
   ]
  },
  {
   "cell_type": "code",
   "execution_count": 4,
   "id": "surrounded-costume",
   "metadata": {
    "_cell_guid": "d83d47e2-9783-4f2a-ae10-c181bf3f941f",
    "_uuid": "955a3e47-1385-45f1-8d00-ba7997676e65",
    "collapsed": false,
    "execution": {
     "iopub.execute_input": "2024-04-01T08:49:26.693471Z",
     "iopub.status.busy": "2024-04-01T08:49:26.692838Z",
     "iopub.status.idle": "2024-04-01T08:49:28.840360Z",
     "shell.execute_reply": "2024-04-01T08:49:28.839808Z",
     "shell.execute_reply.started": "2024-03-31T08:54:45.653536Z"
    },
    "jupyter": {
     "outputs_hidden": false
    },
    "papermill": {
     "duration": 2.180353,
     "end_time": "2024-04-01T08:49:28.840510",
     "exception": false,
     "start_time": "2024-04-01T08:49:26.660157",
     "status": "completed"
    },
    "tags": []
   },
   "outputs": [],
   "source": [
    "data = read_text(\"../input/bilingual-sentence-pairs/fra.txt\")\n",
    "deu_eng = to_lines(data)\n",
    "deu_eng = array(deu_eng)"
   ]
  },
  {
   "cell_type": "code",
   "execution_count": 5,
   "id": "greenhouse-radiation",
   "metadata": {
    "_cell_guid": "80ffabfb-4674-4d94-8190-c8a43f7eb5df",
    "_uuid": "ef893368-9e1d-475c-881b-14b680351e9b",
    "collapsed": false,
    "execution": {
     "iopub.execute_input": "2024-04-01T08:49:28.903520Z",
     "iopub.status.busy": "2024-04-01T08:49:28.902670Z",
     "iopub.status.idle": "2024-04-01T08:49:28.906601Z",
     "shell.execute_reply": "2024-04-01T08:49:28.907077Z",
     "shell.execute_reply.started": "2024-03-31T08:54:47.297899Z"
    },
    "jupyter": {
     "outputs_hidden": false
    },
    "papermill": {
     "duration": 0.038951,
     "end_time": "2024-04-01T08:49:28.907225",
     "exception": false,
     "start_time": "2024-04-01T08:49:28.868274",
     "status": "completed"
    },
    "tags": []
   },
   "outputs": [
    {
     "data": {
      "text/plain": [
       "array([['Go.', 'Va !',\n",
       "        'CC-BY 2.0 (France) Attribution: tatoeba.org #2877272 (CM) & #1158250 (Wittydev)'],\n",
       "       ['Go.', 'Marche.',\n",
       "        'CC-BY 2.0 (France) Attribution: tatoeba.org #2877272 (CM) & #8090732 (Micsmithel)'],\n",
       "       ['Go.', 'Bouge !',\n",
       "        'CC-BY 2.0 (France) Attribution: tatoeba.org #2877272 (CM) & #9022935 (Micsmithel)'],\n",
       "       ...,\n",
       "       ['Tom liked what he saw.', \"Tom a aimé ce qu'il a vu.\",\n",
       "        'CC-BY 2.0 (France) Attribution: tatoeba.org #3729268 (CM) & #5619279 (Aiji)'],\n",
       "       ['Tom liked what he saw.', \"Tom aima ce qu'il vit.\",\n",
       "        'CC-BY 2.0 (France) Attribution: tatoeba.org #3729268 (CM) & #5619280 (Aiji)'],\n",
       "       ['Tom likes skiing, too.', 'Tom aussi aime skier.',\n",
       "        'CC-BY 2.0 (France) Attribution: tatoeba.org #2869208 (CK) & #5591397 (Aiji)']],\n",
       "      dtype='<U325')"
      ]
     },
     "execution_count": 5,
     "metadata": {},
     "output_type": "execute_result"
    }
   ],
   "source": [
    "deu_eng = deu_eng[:50000,:]\n",
    "deu_eng"
   ]
  },
  {
   "cell_type": "markdown",
   "id": "other-chassis",
   "metadata": {
    "_cell_guid": "8623d3ad-5a9b-41e6-9025-15a386646494",
    "_uuid": "9e5c5c7a-9dc6-45fc-a4d8-fcba6271dc5b",
    "papermill": {
     "duration": 0.027635,
     "end_time": "2024-04-01T08:49:28.962949",
     "exception": false,
     "start_time": "2024-04-01T08:49:28.935314",
     "status": "completed"
    },
    "tags": []
   },
   "source": [
    "<ul>\n",
    "    <li style=\"font-size:100%;\">The actual data contains over 150,000 sentence-pairs. However, we will use only the first 50,000 sentence pairs to reduce the training time of the model. You can change this number as per your system’s computation power.</li>\n",
    "</ul>"
   ]
  },
  {
   "cell_type": "code",
   "execution_count": 6,
   "id": "approved-husband",
   "metadata": {
    "_cell_guid": "97304fc4-c5d0-43e8-8bc8-dd9d4bf6d707",
    "_uuid": "29a10840-41d2-48d0-8b78-d615e8e982f7",
    "collapsed": false,
    "execution": {
     "iopub.execute_input": "2024-04-01T08:49:29.053289Z",
     "iopub.status.busy": "2024-04-01T08:49:29.048214Z",
     "iopub.status.idle": "2024-04-01T08:49:29.572251Z",
     "shell.execute_reply": "2024-04-01T08:49:29.571722Z"
    },
    "jupyter": {
     "outputs_hidden": false
    },
    "papermill": {
     "duration": 0.58128,
     "end_time": "2024-04-01T08:49:29.572410",
     "exception": false,
     "start_time": "2024-04-01T08:49:28.991130",
     "status": "completed"
    },
    "tags": []
   },
   "outputs": [
    {
     "data": {
      "text/plain": [
       "array([['Go', 'Va ',\n",
       "        'CC-BY 2.0 (France) Attribution: tatoeba.org #2877272 (CM) & #1158250 (Wittydev)'],\n",
       "       ['Go', 'Marche',\n",
       "        'CC-BY 2.0 (France) Attribution: tatoeba.org #2877272 (CM) & #8090732 (Micsmithel)'],\n",
       "       ['Go', 'Bouge ',\n",
       "        'CC-BY 2.0 (France) Attribution: tatoeba.org #2877272 (CM) & #9022935 (Micsmithel)'],\n",
       "       ...,\n",
       "       ['Tom liked what he saw', 'Tom a aimé ce quil a vu',\n",
       "        'CC-BY 2.0 (France) Attribution: tatoeba.org #3729268 (CM) & #5619279 (Aiji)'],\n",
       "       ['Tom liked what he saw', 'Tom aima ce quil vit',\n",
       "        'CC-BY 2.0 (France) Attribution: tatoeba.org #3729268 (CM) & #5619280 (Aiji)'],\n",
       "       ['Tom likes skiing too', 'Tom aussi aime skier',\n",
       "        'CC-BY 2.0 (France) Attribution: tatoeba.org #2869208 (CK) & #5591397 (Aiji)']],\n",
       "      dtype='<U325')"
      ]
     },
     "execution_count": 6,
     "metadata": {},
     "output_type": "execute_result"
    }
   ],
   "source": [
    "# Remove punctuation\n",
    "deu_eng[:,0] = [s.translate(str.maketrans('', '', string.punctuation)) for s in deu_eng[:,0]]\n",
    "deu_eng[:,1] = [s.translate(str.maketrans('', '', string.punctuation)) for s in deu_eng[:,1]]\n",
    "\n",
    "deu_eng"
   ]
  },
  {
   "cell_type": "code",
   "execution_count": 7,
   "id": "vanilla-storm",
   "metadata": {
    "_cell_guid": "0c238049-3dc9-49ca-90ba-51555105d1b1",
    "_uuid": "ddfe4f23-7de3-40b4-a770-d3be3e80123d",
    "collapsed": false,
    "execution": {
     "iopub.execute_input": "2024-04-01T08:49:29.673598Z",
     "iopub.status.busy": "2024-04-01T08:49:29.647952Z",
     "iopub.status.idle": "2024-04-01T08:49:29.855830Z",
     "shell.execute_reply": "2024-04-01T08:49:29.855146Z",
     "shell.execute_reply.started": "2024-03-31T08:54:47.851545Z"
    },
    "jupyter": {
     "outputs_hidden": false
    },
    "papermill": {
     "duration": 0.254902,
     "end_time": "2024-04-01T08:49:29.855967",
     "exception": false,
     "start_time": "2024-04-01T08:49:29.601065",
     "status": "completed"
    },
    "tags": []
   },
   "outputs": [],
   "source": [
    "# convert text to lowercase\n",
    "for i in range(len(deu_eng)):\n",
    "    deu_eng[i,0] = deu_eng[i,0].lower()\n",
    "    deu_eng[i,1] = deu_eng[i,1].lower()"
   ]
  },
  {
   "cell_type": "code",
   "execution_count": 8,
   "id": "southeast-consensus",
   "metadata": {
    "_cell_guid": "b0cdf050-3a3e-4555-829f-ebbfabe41e0c",
    "_uuid": "de0773c4-4d7d-4af1-a16d-d8a83c0bc6ea",
    "collapsed": false,
    "execution": {
     "iopub.execute_input": "2024-04-01T08:49:29.941454Z",
     "iopub.status.busy": "2024-04-01T08:49:29.936328Z",
     "iopub.status.idle": "2024-04-01T08:49:30.618588Z",
     "shell.execute_reply": "2024-04-01T08:49:30.617996Z"
    },
    "jupyter": {
     "outputs_hidden": false
    },
    "papermill": {
     "duration": 0.733958,
     "end_time": "2024-04-01T08:49:30.618728",
     "exception": false,
     "start_time": "2024-04-01T08:49:29.884770",
     "status": "completed"
    },
    "tags": []
   },
   "outputs": [
    {
     "name": "stderr",
     "output_type": "stream",
     "text": [
      "/opt/conda/lib/python3.7/site-packages/pandas/plotting/_matplotlib/tools.py:331: MatplotlibDeprecationWarning: \n",
      "The is_first_col function was deprecated in Matplotlib 3.4 and will be removed two minor releases later. Use ax.get_subplotspec().is_first_col() instead.\n",
      "  if ax.is_first_col():\n"
     ]
    },
    {
     "data": {
      "image/png": "[encoded data removed]",
      "text/plain": [
       "<Figure size 432x288 with 2 Axes>"
      ]
     },
     "metadata": {
      "needs_background": "light"
     },
     "output_type": "display_data"
    }
   ],
   "source": [
    "# empty lists\n",
    "eng_l = []\n",
    "deu_l = []\n",
    "\n",
    "# populate the lists with sentence lengths\n",
    "for i in deu_eng[:,0]:\n",
    "      eng_l.append(len(i.split()))\n",
    "\n",
    "for i in deu_eng[:,1]:\n",
    "      deu_l.append(len(i.split()))\n",
    "\n",
    "length_df = pd.DataFrame({'eng':eng_l, 'fra':deu_l})\n",
    "\n",
    "length_df.hist(bins = 50)\n",
    "plt.show()"
   ]
  },
  {
   "cell_type": "markdown",
   "id": "russian-portfolio",
   "metadata": {
    "_cell_guid": "a0d0a611-ffa6-49d1-a8cf-c7e1b4612191",
    "_uuid": "e89539fd-d185-4b26-ad43-b57339084936",
    "papermill": {
     "duration": 0.029707,
     "end_time": "2024-04-01T08:49:30.678156",
     "exception": false,
     "start_time": "2024-04-01T08:49:30.648449",
     "status": "completed"
    },
    "tags": []
   },
   "source": [
    "<ul>\n",
    "    <li style=\"font-size:100%;\">A Seq2Seq model requires that we convert both the input and the output sentences into integer sequences of fixed length.</li>\n",
    "    <li style=\"font-size:100%;\">Now, vectorize our text data by using Keras’s Tokenizer() class. It will turn our sentences into sequences of integers. We can then pad those sequences with zeros to make all the sequences of the same length.</li>\n",
    "    <li style=\"font-size:10\n",
    "               \n",
    "               0%;\">Prepare tokenizers for both the German and English sentences</li>\n",
    "</ul>"
   ]
  },
  {
   "cell_type": "code",
   "execution_count": 9,
   "id": "vertical-shield",
   "metadata": {
    "_cell_guid": "cecebec1-67ef-4911-98d0-becbb95324d8",
    "_uuid": "70f260ac-7bf1-4770-bbce-5f7d78cf7816",
    "collapsed": false,
    "execution": {
     "iopub.execute_input": "2024-04-01T08:49:30.742285Z",
     "iopub.status.busy": "2024-04-01T08:49:30.741645Z",
     "iopub.status.idle": "2024-04-01T08:49:30.744405Z",
     "shell.execute_reply": "2024-04-01T08:49:30.743866Z",
     "shell.execute_reply.started": "2024-03-31T08:54:48.790956Z"
    },
    "jupyter": {
     "outputs_hidden": false
    },
    "papermill": {
     "duration": 0.036712,
     "end_time": "2024-04-01T08:49:30.744528",
     "exception": false,
     "start_time": "2024-04-01T08:49:30.707816",
     "status": "completed"
    },
    "tags": []
   },
   "outputs": [],
   "source": [
    "# function to build a tokenizer\n",
    "def tokenization(lines):\n",
    "    tokenizer = Tokenizer()\n",
    "    tokenizer.fit_on_texts(lines)\n",
    "    return tokenizer"
   ]
  },
  {
   "cell_type": "code",
   "execution_count": 10,
   "id": "double-metadata",
   "metadata": {
    "_cell_guid": "8ad0e92c-682e-4e90-a705-46bc361fba33",
    "_uuid": "e2f5d36e-37b6-4799-bb2d-d8eaad78724f",
    "collapsed": false,
    "execution": {
     "iopub.execute_input": "2024-04-01T08:49:30.821703Z",
     "iopub.status.busy": "2024-04-01T08:49:30.811409Z",
     "iopub.status.idle": "2024-04-01T08:49:31.469205Z",
     "shell.execute_reply": "2024-04-01T08:49:31.468726Z",
     "shell.execute_reply.started": "2024-03-31T08:54:48.797022Z"
    },
    "jupyter": {
     "outputs_hidden": false
    },
    "papermill": {
     "duration": 0.69521,
     "end_time": "2024-04-01T08:49:31.469368",
     "exception": false,
     "start_time": "2024-04-01T08:49:30.774158",
     "status": "completed"
    },
    "tags": []
   },
   "outputs": [
    {
     "name": "stdout",
     "output_type": "stream",
     "text": [
      "English Vocabulary Size: 6042\n"
     ]
    }
   ],
   "source": [
    "# prepare english tokenizer\n",
    "eng_tokenizer = tokenization(deu_eng[:, 0])\n",
    "eng_vocab_size = len(eng_tokenizer.word_index) + 1\n",
    "\n",
    "eng_length = 8\n",
    "print('English Vocabulary Size: %d' % eng_vocab_size)"
   ]
  },
  {
   "cell_type": "code",
   "execution_count": 11,
   "id": "signal-contribution",
   "metadata": {
    "_cell_guid": "6764bb34-dc5f-4df8-adb2-ae403d5c03bc",
    "_uuid": "7549910a-8e0e-4686-8709-72bec1e693e8",
    "collapsed": false,
    "execution": {
     "iopub.execute_input": "2024-04-01T08:49:31.595084Z",
     "iopub.status.busy": "2024-04-01T08:49:31.569411Z",
     "iopub.status.idle": "2024-04-01T08:49:32.300703Z",
     "shell.execute_reply": "2024-04-01T08:49:32.300074Z",
     "shell.execute_reply.started": "2024-03-31T08:54:49.509145Z"
    },
    "jupyter": {
     "outputs_hidden": false
    },
    "papermill": {
     "duration": 0.800837,
     "end_time": "2024-04-01T08:49:32.300842",
     "exception": false,
     "start_time": "2024-04-01T08:49:31.500005",
     "status": "completed"
    },
    "tags": []
   },
   "outputs": [
    {
     "name": "stdout",
     "output_type": "stream",
     "text": [
      "French Vocabulary Size: 13974\n"
     ]
    }
   ],
   "source": [
    "# prepare French tokenizer\n",
    "deu_tokenizer = tokenization(deu_eng[:, 1])\n",
    "deu_vocab_size = len(deu_tokenizer.word_index) + 1\n",
    "\n",
    "deu_length = 8\n",
    "print('French Vocabulary Size: %d' % deu_vocab_size)"
   ]
  },
  {
   "cell_type": "code",
   "execution_count": 12,
   "id": "specified-declaration",
   "metadata": {
    "_cell_guid": "eff3e2f1-a10d-4eec-a145-87750a818ea5",
    "_uuid": "8ec627ac-7dea-44db-9bef-0bdedba66d13",
    "collapsed": false,
    "execution": {
     "iopub.execute_input": "2024-04-01T08:49:32.366641Z",
     "iopub.status.busy": "2024-04-01T08:49:32.365828Z",
     "iopub.status.idle": "2024-04-01T08:49:32.368774Z",
     "shell.execute_reply": "2024-04-01T08:49:32.368146Z",
     "shell.execute_reply.started": "2024-03-31T08:54:50.299358Z"
    },
    "jupyter": {
     "outputs_hidden": false
    },
    "papermill": {
     "duration": 0.03754,
     "end_time": "2024-04-01T08:49:32.368901",
     "exception": false,
     "start_time": "2024-04-01T08:49:32.331361",
     "status": "completed"
    },
    "tags": []
   },
   "outputs": [],
   "source": [
    "# encode and pad sequences\n",
    "def encode_sequences(tokenizer, length, lines):\n",
    "    seq = tokenizer.texts_to_sequences(lines)\n",
    "    # pad sequences with 0 values\n",
    "    seq = pad_sequences(seq, maxlen=length, padding='post')\n",
    "    return seq"
   ]
  },
  {
   "cell_type": "code",
   "execution_count": 13,
   "id": "posted-clone",
   "metadata": {
    "_cell_guid": "01f77521-ed93-410e-a886-68409082152d",
    "_uuid": "3622650b-07cd-4cb1-ab94-bdfd8ebbba02",
    "collapsed": false,
    "execution": {
     "iopub.execute_input": "2024-04-01T08:49:32.432603Z",
     "iopub.status.busy": "2024-04-01T08:49:32.431999Z",
     "iopub.status.idle": "2024-04-01T08:49:33.070577Z",
     "shell.execute_reply": "2024-04-01T08:49:33.069888Z",
     "shell.execute_reply.started": "2024-03-31T08:54:50.305227Z"
    },
    "jupyter": {
     "outputs_hidden": false
    },
    "papermill": {
     "duration": 0.671893,
     "end_time": "2024-04-01T08:49:33.070723",
     "exception": false,
     "start_time": "2024-04-01T08:49:32.398830",
     "status": "completed"
    },
    "tags": []
   },
   "outputs": [],
   "source": [
    "from sklearn.model_selection import train_test_split\n",
    "\n",
    "# split data into train and test set\n",
    "train, test = train_test_split(deu_eng, test_size=0.2, random_state = 12)"
   ]
  },
  {
   "cell_type": "markdown",
   "id": "incorporate-flower",
   "metadata": {
    "_cell_guid": "36acf3e7-466f-4883-bae5-766488595968",
    "_uuid": "d4407a71-6b79-43a4-a3db-9481291c299a",
    "papermill": {
     "duration": 0.031468,
     "end_time": "2024-04-01T08:49:33.132662",
     "exception": false,
     "start_time": "2024-04-01T08:49:33.101194",
     "status": "completed"
    },
    "tags": []
   },
   "source": [
    "<ul>\n",
    "    <li style=\"font-size:100%;\"> We will encode German sentences as the input sequences and English sentences as the target sequences. This has to be done for both the train and test datasets.</li>"
   ]
  },
  {
   "cell_type": "code",
   "execution_count": 14,
   "id": "involved-theorem",
   "metadata": {
    "_cell_guid": "1c00157e-0d3c-4756-a7f3-bd703542959d",
    "_uuid": "439ffd32-3f58-45a1-a3fd-09a743d562af",
    "collapsed": false,
    "execution": {
     "iopub.execute_input": "2024-04-01T08:49:33.222548Z",
     "iopub.status.busy": "2024-04-01T08:49:33.217585Z",
     "iopub.status.idle": "2024-04-01T08:49:35.267482Z",
     "shell.execute_reply": "2024-04-01T08:49:35.266808Z",
     "shell.execute_reply.started": "2024-03-31T08:54:50.453495Z"
    },
    "jupyter": {
     "outputs_hidden": false
    },
    "papermill": {
     "duration": 2.1047,
     "end_time": "2024-04-01T08:49:35.267622",
     "exception": false,
     "start_time": "2024-04-01T08:49:33.162922",
     "status": "completed"
    },
    "tags": []
   },
   "outputs": [],
   "source": [
    "# prepare training data\n",
    "trainX = encode_sequences(deu_tokenizer, deu_length, train[:, 1])#input\n",
    "trainY = encode_sequences(eng_tokenizer, eng_length, train[:, 0])#target\n",
    "\n",
    "# prepare validation data\n",
    "testX = encode_sequences(deu_tokenizer, deu_length, test[:, 1])\n",
    "testY = encode_sequences(eng_tokenizer, eng_length, test[:, 0])"
   ]
  },
  {
   "cell_type": "code",
   "execution_count": 15,
   "id": "floral-percentage",
   "metadata": {
    "_cell_guid": "4c2a4725-9286-4e2d-be3b-8fa3db0f7b3e",
    "_uuid": "77832a8f-a100-44a7-8a01-729e402ba099",
    "collapsed": false,
    "execution": {
     "iopub.execute_input": "2024-04-01T08:49:35.334894Z",
     "iopub.status.busy": "2024-04-01T08:49:35.334030Z",
     "iopub.status.idle": "2024-04-01T08:49:35.336940Z",
     "shell.execute_reply": "2024-04-01T08:49:35.336311Z",
     "shell.execute_reply.started": "2024-03-31T08:54:52.342894Z"
    },
    "jupyter": {
     "outputs_hidden": false
    },
    "papermill": {
     "duration": 0.038686,
     "end_time": "2024-04-01T08:49:35.337064",
     "exception": false,
     "start_time": "2024-04-01T08:49:35.298378",
     "status": "completed"
    },
    "tags": []
   },
   "outputs": [],
   "source": [
    "# build NMT model\n",
    "def define_model(in_vocab,out_vocab, in_timesteps,out_timesteps,units):\n",
    "    model = Sequential()\n",
    "    model.add(Embedding(in_vocab, units, input_length=in_timesteps, mask_zero=True))\n",
    "    model.add(LSTM(units))\n",
    "    model.add(RepeatVector(out_timesteps))\n",
    "    model.add(LSTM(units, return_sequences=True))\n",
    "    model.add(Dense(out_vocab, activation='softmax'))\n",
    "    return model"
   ]
  },
  {
   "cell_type": "code",
   "execution_count": 16,
   "id": "infectious-schema",
   "metadata": {
    "_cell_guid": "1757b76f-1eb3-4399-8ff5-16e74b9a2db7",
    "_uuid": "f7124a2a-5570-498b-8a3d-daa89a929af1",
    "collapsed": false,
    "execution": {
     "iopub.execute_input": "2024-04-01T08:49:35.401968Z",
     "iopub.status.busy": "2024-04-01T08:49:35.401344Z",
     "iopub.status.idle": "2024-04-01T08:49:38.998438Z",
     "shell.execute_reply": "2024-04-01T08:49:38.997760Z",
     "shell.execute_reply.started": "2024-03-31T08:54:52.350374Z"
    },
    "jupyter": {
     "outputs_hidden": false
    },
    "papermill": {
     "duration": 3.631518,
     "end_time": "2024-04-01T08:49:38.998580",
     "exception": false,
     "start_time": "2024-04-01T08:49:35.367062",
     "status": "completed"
    },
    "tags": []
   },
   "outputs": [],
   "source": [
    "# model compilation\n",
    "model = define_model(deu_vocab_size, eng_vocab_size, deu_length, eng_length, 512)"
   ]
  },
  {
   "cell_type": "code",
   "execution_count": 17,
   "id": "brutal-graphics",
   "metadata": {
    "_cell_guid": "9634f3fb-9196-48e0-ba5c-687d65da3287",
    "_uuid": "dc8c9b82-f6bc-49b9-aad0-ce67e8b2eea0",
    "collapsed": false,
    "execution": {
     "iopub.execute_input": "2024-04-01T08:49:39.064923Z",
     "iopub.status.busy": "2024-04-01T08:49:39.063983Z",
     "iopub.status.idle": "2024-04-01T08:49:39.084443Z",
     "shell.execute_reply": "2024-04-01T08:49:39.083924Z",
     "shell.execute_reply.started": "2024-03-31T08:54:54.108996Z"
    },
    "jupyter": {
     "outputs_hidden": false
    },
    "papermill": {
     "duration": 0.055422,
     "end_time": "2024-04-01T08:49:39.084581",
     "exception": false,
     "start_time": "2024-04-01T08:49:39.029159",
     "status": "completed"
    },
    "tags": []
   },
   "outputs": [],
   "source": [
    "rms = optimizers.RMSprop(lr=0.001)\n",
    "model.compile(optimizer=rms, loss='sparse_categorical_crossentropy')"
   ]
  },
  {
   "cell_type": "markdown",
   "id": "crazy-bulgaria",
   "metadata": {
    "_cell_guid": "2bb88e1a-993d-40ad-88e7-8e981bea550b",
    "_uuid": "dcc1873c-ac56-484d-a13d-86d11899f43a",
    "papermill": {
     "duration": 0.031735,
     "end_time": "2024-04-01T08:49:39.146391",
     "exception": false,
     "start_time": "2024-04-01T08:49:39.114656",
     "status": "completed"
    },
    "tags": []
   },
   "source": [
    "<ul>\n",
    "    <li style=\"font-size:100%;\">We are using the RMSprop optimizer in this model as it’s usually a good choice when working with recurrent neural networks.</li>\n",
    "    <li style=\"font-size:100%;\">Here I have used ‘sparse_categorical_crossentropy‘ as the loss function. This is because the function allows us to use the target sequence as is, instead of the one-hot encoded format. One-hot encoding the target sequences using such a huge vocabulary might consume our system’s entire memory.</li>\n",
    "               \n",
    "</ul>"
   ]
  },
  {
   "cell_type": "markdown",
   "id": "dominican-pursuit",
   "metadata": {
    "_cell_guid": "eef06b31-ce6d-4c61-b16e-44e9cd46b7fe",
    "_uuid": "4cdd57c2-7f46-43c1-9eb5-e8a7a0f43b68",
    "papermill": {
     "duration": 0.029655,
     "end_time": "2024-04-01T08:49:39.205933",
     "exception": false,
     "start_time": "2024-04-01T08:49:39.176278",
     "status": "completed"
    },
    "tags": []
   },
   "source": [
    "<ul>\n",
    "    <li style=\"font-size:100%;\">ModelCheckpoint() function to save the model with the lowest validation loss. I personally prefer this method over early stopping.</li>\n",
    "</ul>"
   ]
  },
  {
   "cell_type": "code",
   "execution_count": 18,
   "id": "comprehensive-series",
   "metadata": {
    "_cell_guid": "96bd8102-9fc9-4569-acee-a751e198ac2a",
    "_uuid": "757250d6-4af0-4b99-a4fc-62033ffb3fbe",
    "collapsed": false,
    "execution": {
     "iopub.execute_input": "2024-04-01T08:49:39.272207Z",
     "iopub.status.busy": "2024-04-01T08:49:39.271635Z",
     "iopub.status.idle": "2024-04-01T08:58:05.829458Z",
     "shell.execute_reply": "2024-04-01T08:58:05.828896Z"
    },
    "jupyter": {
     "outputs_hidden": false
    },
    "papermill": {
     "duration": 506.593754,
     "end_time": "2024-04-01T08:58:05.829614",
     "exception": false,
     "start_time": "2024-04-01T08:49:39.235860",
     "status": "completed"
    },
    "tags": []
   },
   "outputs": [
    {
     "name": "stdout",
     "output_type": "stream",
     "text": [
      "Epoch 1/30\n",
      "63/63 [==============================] - 13s 91ms/step - loss: 4.3932 - val_loss: 2.8560\n",
      "\n",
      "Epoch 00001: val_loss improved from inf to 2.85598, saving model to model.h1.24_jan_19\n",
      "Epoch 2/30\n",
      "63/63 [==============================] - 4s 60ms/step - loss: 2.8007 - val_loss: 2.7606\n",
      "\n",
      "Epoch 00002: val_loss improved from 2.85598 to 2.76057, saving model to model.h1.24_jan_19\n",
      "Epoch 3/30\n",
      "63/63 [==============================] - 4s 60ms/step - loss: 2.6515 - val_loss: 2.6114\n",
      "\n",
      "Epoch 00003: val_loss improved from 2.76057 to 2.61135, saving model to model.h1.24_jan_19\n",
      "Epoch 4/30\n",
      "63/63 [==============================] - 4s 59ms/step - loss: 2.4664 - val_loss: 2.4820\n",
      "\n",
      "Epoch 00004: val_loss improved from 2.61135 to 2.48197, saving model to model.h1.24_jan_19\n",
      "Epoch 5/30\n",
      "63/63 [==============================] - 4s 60ms/step - loss: 2.3090 - val_loss: 2.3294\n",
      "\n",
      "Epoch 00005: val_loss improved from 2.48197 to 2.32944, saving model to model.h1.24_jan_19\n",
      "Epoch 6/30\n",
      "63/63 [==============================] - 4s 60ms/step - loss: 2.1688 - val_loss: 2.2327\n",
      "\n",
      "Epoch 00006: val_loss improved from 2.32944 to 2.23273, saving model to model.h1.24_jan_19\n",
      "Epoch 7/30\n",
      "63/63 [==============================] - 4s 61ms/step - loss: 2.0489 - val_loss: 2.1438\n",
      "\n",
      "Epoch 00007: val_loss improved from 2.23273 to 2.14385, saving model to model.h1.24_jan_19\n",
      "Epoch 8/30\n",
      "63/63 [==============================] - 4s 60ms/step - loss: 1.9329 - val_loss: 2.0732\n",
      "\n",
      "Epoch 00008: val_loss improved from 2.14385 to 2.07320, saving model to model.h1.24_jan_19\n",
      "Epoch 9/30\n",
      "63/63 [==============================] - 4s 60ms/step - loss: 1.8287 - val_loss: 2.0071\n",
      "\n",
      "Epoch 00009: val_loss improved from 2.07320 to 2.00710, saving model to model.h1.24_jan_19\n",
      "Epoch 10/30\n",
      "63/63 [==============================] - 4s 59ms/step - loss: 1.7305 - val_loss: 1.9628\n",
      "\n",
      "Epoch 00010: val_loss improved from 2.00710 to 1.96281, saving model to model.h1.24_jan_19\n",
      "Epoch 11/30\n",
      "63/63 [==============================] - 4s 60ms/step - loss: 1.6406 - val_loss: 1.9092\n",
      "\n",
      "Epoch 00011: val_loss improved from 1.96281 to 1.90920, saving model to model.h1.24_jan_19\n",
      "Epoch 12/30\n",
      "63/63 [==============================] - 4s 59ms/step - loss: 1.5537 - val_loss: 1.8784\n",
      "\n",
      "Epoch 00012: val_loss improved from 1.90920 to 1.87836, saving model to model.h1.24_jan_19\n",
      "Epoch 13/30\n",
      "63/63 [==============================] - 4s 60ms/step - loss: 1.4644 - val_loss: 1.8151\n",
      "\n",
      "Epoch 00013: val_loss improved from 1.87836 to 1.81508, saving model to model.h1.24_jan_19\n",
      "Epoch 14/30\n",
      "63/63 [==============================] - 4s 59ms/step - loss: 1.3839 - val_loss: 1.7715\n",
      "\n",
      "Epoch 00014: val_loss improved from 1.81508 to 1.77150, saving model to model.h1.24_jan_19\n",
      "Epoch 15/30\n",
      "63/63 [==============================] - 4s 59ms/step - loss: 1.3099 - val_loss: 1.7067\n",
      "\n",
      "Epoch 00015: val_loss improved from 1.77150 to 1.70666, saving model to model.h1.24_jan_19\n",
      "Epoch 16/30\n",
      "63/63 [==============================] - 4s 60ms/step - loss: 1.2300 - val_loss: 1.6683\n",
      "\n",
      "Epoch 00016: val_loss improved from 1.70666 to 1.66827, saving model to model.h1.24_jan_19\n",
      "Epoch 17/30\n",
      "63/63 [==============================] - 4s 60ms/step - loss: 1.1517 - val_loss: 1.6393\n",
      "\n",
      "Epoch 00017: val_loss improved from 1.66827 to 1.63934, saving model to model.h1.24_jan_19\n",
      "Epoch 18/30\n",
      "63/63 [==============================] - 4s 61ms/step - loss: 1.0858 - val_loss: 1.6214\n",
      "\n",
      "Epoch 00018: val_loss improved from 1.63934 to 1.62142, saving model to model.h1.24_jan_19\n",
      "Epoch 19/30\n",
      "63/63 [==============================] - 4s 59ms/step - loss: 1.0200 - val_loss: 1.5744\n",
      "\n",
      "Epoch 00019: val_loss improved from 1.62142 to 1.57440, saving model to model.h1.24_jan_19\n",
      "Epoch 20/30\n",
      "63/63 [==============================] - 4s 59ms/step - loss: 0.9541 - val_loss: 1.5668\n",
      "\n",
      "Epoch 00020: val_loss improved from 1.57440 to 1.56675, saving model to model.h1.24_jan_19\n",
      "Epoch 21/30\n",
      "63/63 [==============================] - 4s 60ms/step - loss: 0.8934 - val_loss: 1.5375\n",
      "\n",
      "Epoch 00021: val_loss improved from 1.56675 to 1.53752, saving model to model.h1.24_jan_19\n",
      "Epoch 22/30\n",
      "63/63 [==============================] - 4s 60ms/step - loss: 0.8291 - val_loss: 1.5109\n",
      "\n",
      "Epoch 00022: val_loss improved from 1.53752 to 1.51086, saving model to model.h1.24_jan_19\n",
      "Epoch 23/30\n",
      "63/63 [==============================] - 4s 59ms/step - loss: 0.7730 - val_loss: 1.4962\n",
      "\n",
      "Epoch 00023: val_loss improved from 1.51086 to 1.49620, saving model to model.h1.24_jan_19\n",
      "Epoch 24/30\n",
      "63/63 [==============================] - 4s 60ms/step - loss: 0.7183 - val_loss: 1.4781\n",
      "\n",
      "Epoch 00024: val_loss improved from 1.49620 to 1.47811, saving model to model.h1.24_jan_19\n",
      "Epoch 25/30\n",
      "63/63 [==============================] - 4s 60ms/step - loss: 0.6695 - val_loss: 1.4624\n",
      "\n",
      "Epoch 00025: val_loss improved from 1.47811 to 1.46244, saving model to model.h1.24_jan_19\n",
      "Epoch 26/30\n",
      "63/63 [==============================] - 4s 60ms/step - loss: 0.6173 - val_loss: 1.4542\n",
      "\n",
      "Epoch 00026: val_loss improved from 1.46244 to 1.45416, saving model to model.h1.24_jan_19\n",
      "Epoch 27/30\n",
      "63/63 [==============================] - 4s 61ms/step - loss: 0.5725 - val_loss: 1.4481\n",
      "\n",
      "Epoch 00027: val_loss improved from 1.45416 to 1.44815, saving model to model.h1.24_jan_19\n",
      "Epoch 28/30\n",
      "63/63 [==============================] - 4s 60ms/step - loss: 0.5278 - val_loss: 1.4414\n",
      "\n",
      "Epoch 00028: val_loss improved from 1.44815 to 1.44135, saving model to model.h1.24_jan_19\n",
      "Epoch 29/30\n",
      "63/63 [==============================] - 4s 61ms/step - loss: 0.4881 - val_loss: 1.4275\n",
      "\n",
      "Epoch 00029: val_loss improved from 1.44135 to 1.42746, saving model to model.h1.24_jan_19\n",
      "Epoch 30/30\n",
      "63/63 [==============================] - 4s 59ms/step - loss: 0.4483 - val_loss: 1.4409\n",
      "\n",
      "Epoch 00030: val_loss did not improve from 1.42746\n"
     ]
    }
   ],
   "source": [
    "filename = 'model.h1.24_jan_19'\n",
    "checkpoint = ModelCheckpoint(filename, monitor='val_loss', verbose=1, save_best_only=True, mode='min')\n",
    "\n",
    "# train model\n",
    "history = model.fit(trainX, trainY.reshape(trainY.shape[0], trainY.shape[1], 1),\n",
    "                    epochs=30, batch_size=512, validation_split = 0.2,callbacks=[checkpoint], \n",
    "                    verbose=1)"
   ]
  },
  {
   "cell_type": "code",
   "execution_count": 19,
   "id": "polyphonic-cholesterol",
   "metadata": {
    "_cell_guid": "a078f0df-1917-4acd-802d-3b0a5300b30c",
    "_uuid": "64cc3aa8-cd8d-40b4-8a28-5969fc485f47",
    "collapsed": false,
    "execution": {
     "iopub.execute_input": "2024-04-01T08:58:07.154397Z",
     "iopub.status.busy": "2024-04-01T08:58:07.153749Z",
     "iopub.status.idle": "2024-04-01T08:58:07.288934Z",
     "shell.execute_reply": "2024-04-01T08:58:07.288215Z"
    },
    "jupyter": {
     "outputs_hidden": false
    },
    "papermill": {
     "duration": 0.810173,
     "end_time": "2024-04-01T08:58:07.289077",
     "exception": false,
     "start_time": "2024-04-01T08:58:06.478904",
     "status": "completed"
    },
    "tags": []
   },
   "outputs": [
    {
     "data": {
      "image/png": "[encoded data removed]",
      "text/plain": [
       "<Figure size 432x288 with 1 Axes>"
      ]
     },
     "metadata": {
      "needs_background": "light"
     },
     "output_type": "display_data"
    }
   ],
   "source": [
    "plt.plot(history.history['loss'])\n",
    "plt.plot(history.history['val_loss'])\n",
    "plt.legend(['train','validation'])\n",
    "plt.show()"
   ]
  },
  {
   "cell_type": "markdown",
   "id": "representative-inflation",
   "metadata": {
    "_cell_guid": "0c2e2e93-f881-42f7-abb0-cc049c201d43",
    "_uuid": "ef0f3f74-f20d-4df0-b393-fa51c255bc9d",
    "papermill": {
     "duration": 0.651633,
     "end_time": "2024-04-01T08:58:08.589780",
     "exception": false,
     "start_time": "2024-04-01T08:58:07.938147",
     "status": "completed"
    },
    "tags": []
   },
   "source": [
    "<h1> Prediction on unseen data</h1>"
   ]
  },
  {
   "cell_type": "code",
   "execution_count": 20,
   "id": "atomic-effectiveness",
   "metadata": {
    "execution": {
     "iopub.execute_input": "2024-04-01T08:58:09.894795Z",
     "iopub.status.busy": "2024-04-01T08:58:09.893888Z",
     "iopub.status.idle": "2024-04-01T08:58:10.461624Z",
     "shell.execute_reply": "2024-04-01T08:58:10.460956Z"
    },
    "papermill": {
     "duration": 1.224678,
     "end_time": "2024-04-01T08:58:10.461774",
     "exception": false,
     "start_time": "2024-04-01T08:58:09.237096",
     "status": "completed"
    },
    "tags": []
   },
   "outputs": [
    {
     "data": {
      "image/png": "[encoded data removed]",
      "text/plain": [
       "<IPython.core.display.Image object>"
      ]
     },
     "execution_count": 20,
     "metadata": {},
     "output_type": "execute_result"
    }
   ],
   "source": [
    "tf.keras.utils.plot_model(model)"
   ]
  },
  {
   "cell_type": "code",
   "execution_count": 21,
   "id": "demonstrated-addition",
   "metadata": {
    "_cell_guid": "3377080f-0a72-4396-b0e6-dbbe58a1fc5e",
    "_uuid": "6ef05364-35a0-4f67-ac67-79be222c6e62",
    "collapsed": false,
    "execution": {
     "iopub.execute_input": "2024-04-01T08:58:11.764556Z",
     "iopub.status.busy": "2024-04-01T08:58:11.763912Z",
     "iopub.status.idle": "2024-04-01T08:58:25.234328Z",
     "shell.execute_reply": "2024-04-01T08:58:25.233634Z"
    },
    "jupyter": {
     "outputs_hidden": false
    },
    "papermill": {
     "duration": 14.123263,
     "end_time": "2024-04-01T08:58:25.234510",
     "exception": false,
     "start_time": "2024-04-01T08:58:11.111247",
     "status": "completed"
    },
    "tags": []
   },
   "outputs": [
    {
     "name": "stderr",
     "output_type": "stream",
     "text": [
      "/opt/conda/lib/python3.7/site-packages/tensorflow/python/keras/engine/sequential.py:450: UserWarning: `model.predict_classes()` is deprecated and will be removed after 2021-01-01. Please use instead:* `np.argmax(model.predict(x), axis=-1)`,   if your model does multi-class classification   (e.g. if it uses a `softmax` last-layer activation).* `(model.predict(x) > 0.5).astype(\"int32\")`,   if your model does binary classification   (e.g. if it uses a `sigmoid` last-layer activation).\n",
      "  warnings.warn('`model.predict_classes()` is deprecated and '\n"
     ]
    }
   ],
   "source": [
    "model = load_model('model.h1.24_jan_19')\n",
    "preds = model.predict_classes(testX.reshape((testX.shape[0],testX.shape[1])))"
   ]
  },
  {
   "cell_type": "code",
   "execution_count": 22,
   "id": "motivated-header",
   "metadata": {
    "_cell_guid": "599ff1a7-ed30-4ca2-a440-c6746d1a1615",
    "_uuid": "ca423809-b0e5-4a28-b1c4-4891eaaea163",
    "collapsed": false,
    "execution": {
     "iopub.execute_input": "2024-04-01T08:58:26.532888Z",
     "iopub.status.busy": "2024-04-01T08:58:26.531967Z",
     "iopub.status.idle": "2024-04-01T08:58:31.496613Z",
     "shell.execute_reply": "2024-04-01T08:58:31.495971Z"
    },
    "jupyter": {
     "outputs_hidden": false
    },
    "papermill": {
     "duration": 5.618753,
     "end_time": "2024-04-01T08:58:31.496760",
     "exception": false,
     "start_time": "2024-04-01T08:58:25.878007",
     "status": "completed"
    },
    "tags": []
   },
   "outputs": [],
   "source": [
    "import numpy as np\n",
    "preds1 = np.argmax(model.predict(testX.reshape((testX.shape[0],testX.shape[1]))),axis = 1)"
   ]
  },
  {
   "cell_type": "code",
   "execution_count": 23,
   "id": "normal-christmas",
   "metadata": {
    "_cell_guid": "525cb6bf-34f9-40e1-ae86-210a2e9ec7b7",
    "_uuid": "992dfd66-a371-4c5d-8ca3-0dc39b3b32a8",
    "collapsed": false,
    "execution": {
     "iopub.execute_input": "2024-04-01T08:58:32.816477Z",
     "iopub.status.busy": "2024-04-01T08:58:32.815709Z",
     "iopub.status.idle": "2024-04-01T08:58:32.819683Z",
     "shell.execute_reply": "2024-04-01T08:58:32.819148Z"
    },
    "jupyter": {
     "outputs_hidden": false
    },
    "papermill": {
     "duration": 0.674843,
     "end_time": "2024-04-01T08:58:32.819815",
     "exception": false,
     "start_time": "2024-04-01T08:58:32.144972",
     "status": "completed"
    },
    "tags": []
   },
   "outputs": [
    {
     "data": {
      "text/plain": [
       "array([[7, 0, 4, ..., 1, 4, 1],\n",
       "       [7, 0, 1, ..., 1, 1, 1],\n",
       "       [7, 0, 0, ..., 1, 1, 1],\n",
       "       ...,\n",
       "       [6, 2, 0, ..., 0, 0, 0],\n",
       "       [7, 0, 2, ..., 1, 3, 1],\n",
       "       [7, 2, 1, ..., 2, 2, 2]])"
      ]
     },
     "execution_count": 23,
     "metadata": {},
     "output_type": "execute_result"
    }
   ],
   "source": [
    "preds1"
   ]
  },
  {
   "cell_type": "code",
   "execution_count": 24,
   "id": "gothic-stamp",
   "metadata": {
    "_cell_guid": "690cb665-a8bf-46b6-8f51-882648a7116b",
    "_uuid": "a1ecd1f4-05eb-49fa-be6c-c41499185577",
    "collapsed": false,
    "execution": {
     "iopub.execute_input": "2024-04-01T08:58:34.119148Z",
     "iopub.status.busy": "2024-04-01T08:58:34.118573Z",
     "iopub.status.idle": "2024-04-01T08:58:34.121853Z",
     "shell.execute_reply": "2024-04-01T08:58:34.121115Z"
    },
    "jupyter": {
     "outputs_hidden": false
    },
    "papermill": {
     "duration": 0.654602,
     "end_time": "2024-04-01T08:58:34.121988",
     "exception": false,
     "start_time": "2024-04-01T08:58:33.467386",
     "status": "completed"
    },
    "tags": []
   },
   "outputs": [],
   "source": [
    "def get_word(n, tokenizer):\n",
    "    for word, index in tokenizer.word_index.items():\n",
    "        if index == n:\n",
    "            return word\n",
    "    return None"
   ]
  },
  {
   "cell_type": "code",
   "execution_count": 25,
   "id": "ideal-charlotte",
   "metadata": {
    "_cell_guid": "57379a6a-1520-4815-b41f-1fac9b232e57",
    "_uuid": "2385a5bc-7626-45fc-921b-5a944d07ef85",
    "collapsed": false,
    "execution": {
     "iopub.execute_input": "2024-04-01T08:58:35.436943Z",
     "iopub.status.busy": "2024-04-01T08:58:35.431873Z",
     "iopub.status.idle": "2024-04-01T09:02:10.042930Z",
     "shell.execute_reply": "2024-04-01T09:02:10.042292Z"
    },
    "jupyter": {
     "outputs_hidden": false
    },
    "papermill": {
     "duration": 215.274405,
     "end_time": "2024-04-01T09:02:10.043078",
     "exception": false,
     "start_time": "2024-04-01T08:58:34.768673",
     "status": "completed"
    },
    "tags": []
   },
   "outputs": [],
   "source": [
    "preds_text = []\n",
    "for i in preds:\n",
    "    temp = []\n",
    "    for j in range(len(i)):\n",
    "        t = get_word(i[j], eng_tokenizer)\n",
    "        if j > 0:\n",
    "            if (t == get_word(i[j-1], eng_tokenizer)) or (t == None):\n",
    "                temp.append('')\n",
    "            else:\n",
    "                temp.append(t)\n",
    "        else:\n",
    "            if(t == None):\n",
    "                temp.append('')\n",
    "            else:\n",
    "                temp.append(t) \n",
    "\n",
    "    preds_text.append(' '.join(temp))"
   ]
  },
  {
   "cell_type": "code",
   "execution_count": 26,
   "id": "integral-violation",
   "metadata": {
    "_cell_guid": "9a12d22b-22ee-4c0d-87b8-5c5615e4b152",
    "_uuid": "d247a334-b04e-4070-99c7-09932829bbb7",
    "collapsed": false,
    "execution": {
     "iopub.execute_input": "2024-04-01T09:02:11.396863Z",
     "iopub.status.busy": "2024-04-01T09:02:11.396232Z",
     "iopub.status.idle": "2024-04-01T09:02:11.399173Z",
     "shell.execute_reply": "2024-04-01T09:02:11.398654Z"
    },
    "jupyter": {
     "outputs_hidden": false
    },
    "papermill": {
     "duration": 0.6652,
     "end_time": "2024-04-01T09:02:11.399325",
     "exception": false,
     "start_time": "2024-04-01T09:02:10.734125",
     "status": "completed"
    },
    "tags": []
   },
   "outputs": [],
   "source": [
    "pred_df = pd.DataFrame({'actual' : test[:,0], 'predicted' : preds_text})"
   ]
  },
  {
   "cell_type": "code",
   "execution_count": 27,
   "id": "intense-arkansas",
   "metadata": {
    "_cell_guid": "b6a9271e-ae7b-43c6-94f7-2f23bc0d89b7",
    "_uuid": "4e0ac1de-1393-44b7-9628-6cba019bac0b",
    "collapsed": false,
    "execution": {
     "iopub.execute_input": "2024-04-01T09:02:12.732361Z",
     "iopub.status.busy": "2024-04-01T09:02:12.731734Z",
     "iopub.status.idle": "2024-04-01T09:02:12.740276Z",
     "shell.execute_reply": "2024-04-01T09:02:12.739802Z"
    },
    "jupyter": {
     "outputs_hidden": false
    },
    "papermill": {
     "duration": 0.692424,
     "end_time": "2024-04-01T09:02:12.740429",
     "exception": false,
     "start_time": "2024-04-01T09:02:12.048005",
     "status": "completed"
    },
    "tags": []
   },
   "outputs": [
    {
     "data": {
      "text/html": [
       "<div>\n",
       "<style scoped>\n",
       "    .dataframe tbody tr th:only-of-type {\n",
       "        vertical-align: middle;\n",
       "    }\n",
       "\n",
       "    .dataframe tbody tr th {\n",
       "        vertical-align: top;\n",
       "    }\n",
       "\n",
       "    .dataframe thead th {\n",
       "        text-align: right;\n",
       "    }\n",
       "</style>\n",
       "<table border=\"1\" class=\"dataframe\">\n",
       "  <thead>\n",
       "    <tr style=\"text-align: right;\">\n",
       "      <th></th>\n",
       "      <th>actual</th>\n",
       "      <th>predicted</th>\n",
       "    </tr>\n",
       "  </thead>\n",
       "  <tbody>\n",
       "    <tr>\n",
       "      <th>0</th>\n",
       "      <td>im glad to hear it</td>\n",
       "      <td>im glad to hear it</td>\n",
       "    </tr>\n",
       "    <tr>\n",
       "      <th>1</th>\n",
       "      <td>its dead</td>\n",
       "      <td>its dead</td>\n",
       "    </tr>\n",
       "    <tr>\n",
       "      <th>2</th>\n",
       "      <td>keep climbing</td>\n",
       "      <td>keep climbing</td>\n",
       "    </tr>\n",
       "    <tr>\n",
       "      <th>3</th>\n",
       "      <td>i respect you</td>\n",
       "      <td>i find you</td>\n",
       "    </tr>\n",
       "    <tr>\n",
       "      <th>4</th>\n",
       "      <td>what did you do then</td>\n",
       "      <td>what did you do</td>\n",
       "    </tr>\n",
       "    <tr>\n",
       "      <th>5</th>\n",
       "      <td>ill give you a hint</td>\n",
       "      <td>ill give you a favor</td>\n",
       "    </tr>\n",
       "    <tr>\n",
       "      <th>6</th>\n",
       "      <td>have they arrived yet</td>\n",
       "      <td>are they born ready</td>\n",
       "    </tr>\n",
       "    <tr>\n",
       "      <th>7</th>\n",
       "      <td>she knows everything</td>\n",
       "      <td>she knows everything</td>\n",
       "    </tr>\n",
       "    <tr>\n",
       "      <th>8</th>\n",
       "      <td>i hope its true</td>\n",
       "      <td>i think this true</td>\n",
       "    </tr>\n",
       "    <tr>\n",
       "      <th>9</th>\n",
       "      <td>they robbed me blind</td>\n",
       "      <td>they robbed me blind</td>\n",
       "    </tr>\n",
       "    <tr>\n",
       "      <th>10</th>\n",
       "      <td>are they tall</td>\n",
       "      <td>are they lost</td>\n",
       "    </tr>\n",
       "    <tr>\n",
       "      <th>11</th>\n",
       "      <td>be careful</td>\n",
       "      <td>take out</td>\n",
       "    </tr>\n",
       "    <tr>\n",
       "      <th>12</th>\n",
       "      <td>they gave up</td>\n",
       "      <td>they left up</td>\n",
       "    </tr>\n",
       "    <tr>\n",
       "      <th>13</th>\n",
       "      <td>stop gawking</td>\n",
       "      <td>stop staring at</td>\n",
       "    </tr>\n",
       "    <tr>\n",
       "      <th>14</th>\n",
       "      <td>take everything</td>\n",
       "      <td>take everything</td>\n",
       "    </tr>\n",
       "  </tbody>\n",
       "</table>\n",
       "</div>"
      ],
      "text/plain": [
       "                   actual                  predicted\n",
       "0      im glad to hear it      im glad to hear it   \n",
       "1                its dead             its dead      \n",
       "2           keep climbing        keep climbing      \n",
       "3           i respect you            i find you     \n",
       "4    what did you do then        what did you do    \n",
       "5     ill give you a hint    ill give you a favor   \n",
       "6   have they arrived yet    are they born ready    \n",
       "7    she knows everything  she knows everything     \n",
       "8         i hope its true      i think this true    \n",
       "9    they robbed me blind   they robbed me blind    \n",
       "10          are they tall         are they lost     \n",
       "11             be careful             take out      \n",
       "12           they gave up          they left up     \n",
       "13           stop gawking       stop staring at     \n",
       "14        take everything      take everything      "
      ]
     },
     "execution_count": 27,
     "metadata": {},
     "output_type": "execute_result"
    }
   ],
   "source": [
    "# print 15 rows randomly\n",
    "pred_df.head(15)"
   ]
  }
 ],
 "metadata": {
  "kaggle": {
   "accelerator": "gpu",
   "dataSources": [
    {
     "datasetId": 1118439,
     "sourceId": 1878727,
     "sourceType": "datasetVersion"
    }
   ],
   "dockerImageVersionId": 30096,
   "isGpuEnabled": true,
   "isInternetEnabled": false,
   "language": "python",
   "sourceType": "notebook"
  },
  "kernelspec": {
   "display_name": "Python 3",
   "language": "python",
   "name": "python3"
  },
  "language_info": {
   "codemirror_mode": {
    "name": "ipython",
    "version": 3
   },
   "file_extension": ".py",
   "mimetype": "text/x-python",
   "name": "python",
   "nbconvert_exporter": "python",
   "pygments_lexer": "ipython3",
   "version": "3.7.10"
  },
  "papermill": {
   "default_parameters": {},
   "duration": 782.046334,
   "end_time": "2024-04-01T09:02:16.399975",
   "environment_variables": {},
   "exception": null,
   "input_path": "__notebook__.ipynb",
   "output_path": "__notebook__.ipynb",
   "parameters": {},
   "start_time": "2024-04-01T08:49:14.353641",
   "version": "2.3.3"
  }
 },
 "nbformat": 4,
 "nbformat_minor": 5
}
